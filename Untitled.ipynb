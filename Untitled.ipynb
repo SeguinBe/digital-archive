{
 "cells": [
  {
   "cell_type": "code",
   "execution_count": null,
   "id": "89c620f8",
   "metadata": {},
   "outputs": [],
   "source": [
    "import requests"
   ]
  },
  {
   "cell_type": "code",
   "execution_count": null,
   "id": "429221d4",
   "metadata": {},
   "outputs": [],
   "source": [
    "import requests\n",
    "import json\n",
    "import pprint\n",
    "\n",
    "class OmekaSGateway(object):\n",
    "    def __init__(self, install_location, key_identity, key_credential):\n",
    "        self.install_location = install_location\n",
    "        self.key_identity = key_identity\n",
    "        self.key_credential = key_credential\n",
    "\n",
    "    def get_final_uri(self, endpoint):\n",
    "        return endpoint.format(\n",
    "            self.install_location,\n",
    "            self.key_identity,\n",
    "            self.key_credential\n",
    "        )\n",
    "        \n",
    "    def create_page(self, data):\n",
    "        endpoint = \"{}/api/site_pages?key_identity={}&key_credential={}\"\n",
    "        item_payload = {\n",
    "        }\n",
    "        final_uri = endpoint.format(self.install_location, self.key_identity, self.key_credential)\n",
    "        r = requests.post(self.get_final_uri(endpoint), json=data)\n",
    "        return r.json()\n",
    "\n",
    "    def get_page_by_slug(self, slug):\n",
    "        return next((x for x in self.list_site_pages() if x['o:slug'] == slug), None)\n",
    "\n",
    "    def get_item_by_title(self, title):\n",
    "        return next((x for x in self.list_items() if x['o:title'] == title), None)\n",
    "\n",
    "    def update_page(self, id_, data):\n",
    "        endpoint = \"{}/api/site_pages/{}?key_identity={}&key_credential={}\"\n",
    "        requests.put(\n",
    "            endpoint.format(self.install_location, id_, self.key_identity, self.key_credential),\n",
    "            json=data\n",
    "        )\n",
    "\n",
    "    def list_site_pages(self):\n",
    "        final_uri = self.get_final_uri(\"{}/api/site_pages?key_identity={}&key_credential={}\")\n",
    "        r = requests.get(final_uri)\n",
    "        return r.json()\n",
    "\n",
    "    def list_items(self):\n",
    "        final_uri = \"{}/api/items?key_identity={}&key_credential={}\".format(\n",
    "            self.install_location,\n",
    "            self.key_identity,\n",
    "            self.key_credential\n",
    "        )\n",
    "        r = requests.get(final_uri)\n",
    "        return r.json()\n",
    "\n",
    "    def create_item_with_media(self, item_payload, path, mime_type):\n",
    "        endpoint = \"{}/api/items?key_identity={}&key_credential={}\"\n",
    "        postdata = {}\n",
    "\n",
    "        final_uri = endpoint.format(\n",
    "            self.install_location,\n",
    "            self.key_identity,\n",
    "            self.key_credential\n",
    "        )\n",
    "\n",
    "        r = requests.post(final_uri, data={'data': json.dumps(item_payload)}, files=[\n",
    "            ('file[0]', (path, open(path, 'rb'), mime_type))\n",
    "        ])\n",
    "\n",
    "        if r.ok:\n",
    "            return r.json()\n",
    "            print(r.status_code)\n",
    "        else:\n",
    "            raise Exception(r.json()['errors']['error'])\n"
   ]
  },
  {
   "cell_type": "code",
   "execution_count": null,
   "id": "f982f4d9",
   "metadata": {},
   "outputs": [],
   "source": [
    "api = OmekaSGateway('http://localhost:8080',\n",
    "                   '5UxoiInyatZiEIpUOmB9YOPXkrENK3IE',\n",
    "                   'dhz4REYtv7E8qabZ1CMxz4KmiAZFCHCi')"
   ]
  },
  {
   "cell_type": "code",
   "execution_count": null,
   "id": "43c73072",
   "metadata": {},
   "outputs": [],
   "source": [
    "api.list_items()"
   ]
  },
  {
   "cell_type": "code",
   "execution_count": null,
   "id": "0d92dbfc",
   "metadata": {},
   "outputs": [],
   "source": []
  }
 ],
 "metadata": {
  "kernelspec": {
   "display_name": "Python 3",
   "language": "python",
   "name": "python3"
  },
  "language_info": {
   "codemirror_mode": {
    "name": "ipython",
    "version": 3
   },
   "file_extension": ".py",
   "mimetype": "text/x-python",
   "name": "python",
   "nbconvert_exporter": "python",
   "pygments_lexer": "ipython3",
   "version": "3.8.10"
  }
 },
 "nbformat": 4,
 "nbformat_minor": 5
}
