{
 "cells": [
  {
   "cell_type": "code",
   "execution_count": 1,
   "id": "c8abdd5f",
   "metadata": {},
   "outputs": [],
   "source": [
    "%load_ext autoreload\n",
    "%autoreload 2\n"
   ]
  },
  {
   "cell_type": "code",
   "execution_count": 2,
   "id": "77953f9b",
   "metadata": {},
   "outputs": [],
   "source": [
    "from omeka import *\n",
    "from ocr import *"
   ]
  },
  {
   "cell_type": "code",
   "execution_count": 3,
   "id": "2707e202",
   "metadata": {},
   "outputs": [],
   "source": [
    "api = OmekaSGateway('http://localhost:8001',\n",
    "                   'cLlm6eW6LlE7W2u53BcVEnJ4yarvWrcy',\n",
    "                   'JzItg9VPxW6aN6wGccRHC4ZjcMH5q0tW')"
   ]
  },
  {
   "cell_type": "code",
   "execution_count": 4,
   "id": "094bacb1",
   "metadata": {},
   "outputs": [
    {
     "ename": "ConnectionError",
     "evalue": "HTTPConnectionPool(host='localhost', port=8001): Max retries exceeded with url: /api/properties?key_identity=cLlm6eW6LlE7W2u53BcVEnJ4yarvWrcy&key_credential=JzItg9VPxW6aN6wGccRHC4ZjcMH5q0tW&term=bibo%3Acontent (Caused by NewConnectionError('<urllib3.connection.HTTPConnection object at 0x7f496fb62c10>: Failed to establish a new connection: [Errno 111] Connection refused'))",
     "output_type": "error",
     "traceback": [
      "\u001b[0;31m---------------------------------------------------------------------------\u001b[0m",
      "\u001b[0;31mConnectionRefusedError\u001b[0m                    Traceback (most recent call last)",
      "File \u001b[0;32m~/anaconda3/envs/omeka-ocr/lib/python3.9/site-packages/urllib3/connection.py:174\u001b[0m, in \u001b[0;36mHTTPConnection._new_conn\u001b[0;34m(self)\u001b[0m\n\u001b[1;32m    <a href='file:///home/benoit/anaconda3/envs/omeka-ocr/lib/python3.9/site-packages/urllib3/connection.py?line=172'>173</a>\u001b[0m \u001b[39mtry\u001b[39;00m:\n\u001b[0;32m--> <a href='file:///home/benoit/anaconda3/envs/omeka-ocr/lib/python3.9/site-packages/urllib3/connection.py?line=173'>174</a>\u001b[0m     conn \u001b[39m=\u001b[39m connection\u001b[39m.\u001b[39;49mcreate_connection(\n\u001b[1;32m    <a href='file:///home/benoit/anaconda3/envs/omeka-ocr/lib/python3.9/site-packages/urllib3/connection.py?line=174'>175</a>\u001b[0m         (\u001b[39mself\u001b[39;49m\u001b[39m.\u001b[39;49m_dns_host, \u001b[39mself\u001b[39;49m\u001b[39m.\u001b[39;49mport), \u001b[39mself\u001b[39;49m\u001b[39m.\u001b[39;49mtimeout, \u001b[39m*\u001b[39;49m\u001b[39m*\u001b[39;49mextra_kw\n\u001b[1;32m    <a href='file:///home/benoit/anaconda3/envs/omeka-ocr/lib/python3.9/site-packages/urllib3/connection.py?line=175'>176</a>\u001b[0m     )\n\u001b[1;32m    <a href='file:///home/benoit/anaconda3/envs/omeka-ocr/lib/python3.9/site-packages/urllib3/connection.py?line=177'>178</a>\u001b[0m \u001b[39mexcept\u001b[39;00m SocketTimeout:\n",
      "File \u001b[0;32m~/anaconda3/envs/omeka-ocr/lib/python3.9/site-packages/urllib3/util/connection.py:95\u001b[0m, in \u001b[0;36mcreate_connection\u001b[0;34m(address, timeout, source_address, socket_options)\u001b[0m\n\u001b[1;32m     <a href='file:///home/benoit/anaconda3/envs/omeka-ocr/lib/python3.9/site-packages/urllib3/util/connection.py?line=93'>94</a>\u001b[0m \u001b[39mif\u001b[39;00m err \u001b[39mis\u001b[39;00m \u001b[39mnot\u001b[39;00m \u001b[39mNone\u001b[39;00m:\n\u001b[0;32m---> <a href='file:///home/benoit/anaconda3/envs/omeka-ocr/lib/python3.9/site-packages/urllib3/util/connection.py?line=94'>95</a>\u001b[0m     \u001b[39mraise\u001b[39;00m err\n\u001b[1;32m     <a href='file:///home/benoit/anaconda3/envs/omeka-ocr/lib/python3.9/site-packages/urllib3/util/connection.py?line=96'>97</a>\u001b[0m \u001b[39mraise\u001b[39;00m socket\u001b[39m.\u001b[39merror(\u001b[39m\"\u001b[39m\u001b[39mgetaddrinfo returns an empty list\u001b[39m\u001b[39m\"\u001b[39m)\n",
      "File \u001b[0;32m~/anaconda3/envs/omeka-ocr/lib/python3.9/site-packages/urllib3/util/connection.py:85\u001b[0m, in \u001b[0;36mcreate_connection\u001b[0;34m(address, timeout, source_address, socket_options)\u001b[0m\n\u001b[1;32m     <a href='file:///home/benoit/anaconda3/envs/omeka-ocr/lib/python3.9/site-packages/urllib3/util/connection.py?line=83'>84</a>\u001b[0m     sock\u001b[39m.\u001b[39mbind(source_address)\n\u001b[0;32m---> <a href='file:///home/benoit/anaconda3/envs/omeka-ocr/lib/python3.9/site-packages/urllib3/util/connection.py?line=84'>85</a>\u001b[0m sock\u001b[39m.\u001b[39;49mconnect(sa)\n\u001b[1;32m     <a href='file:///home/benoit/anaconda3/envs/omeka-ocr/lib/python3.9/site-packages/urllib3/util/connection.py?line=85'>86</a>\u001b[0m \u001b[39mreturn\u001b[39;00m sock\n",
      "\u001b[0;31mConnectionRefusedError\u001b[0m: [Errno 111] Connection refused",
      "\nDuring handling of the above exception, another exception occurred:\n",
      "\u001b[0;31mNewConnectionError\u001b[0m                        Traceback (most recent call last)",
      "File \u001b[0;32m~/anaconda3/envs/omeka-ocr/lib/python3.9/site-packages/urllib3/connectionpool.py:703\u001b[0m, in \u001b[0;36mHTTPConnectionPool.urlopen\u001b[0;34m(self, method, url, body, headers, retries, redirect, assert_same_host, timeout, pool_timeout, release_conn, chunked, body_pos, **response_kw)\u001b[0m\n\u001b[1;32m    <a href='file:///home/benoit/anaconda3/envs/omeka-ocr/lib/python3.9/site-packages/urllib3/connectionpool.py?line=701'>702</a>\u001b[0m \u001b[39m# Make the request on the httplib connection object.\u001b[39;00m\n\u001b[0;32m--> <a href='file:///home/benoit/anaconda3/envs/omeka-ocr/lib/python3.9/site-packages/urllib3/connectionpool.py?line=702'>703</a>\u001b[0m httplib_response \u001b[39m=\u001b[39m \u001b[39mself\u001b[39;49m\u001b[39m.\u001b[39;49m_make_request(\n\u001b[1;32m    <a href='file:///home/benoit/anaconda3/envs/omeka-ocr/lib/python3.9/site-packages/urllib3/connectionpool.py?line=703'>704</a>\u001b[0m     conn,\n\u001b[1;32m    <a href='file:///home/benoit/anaconda3/envs/omeka-ocr/lib/python3.9/site-packages/urllib3/connectionpool.py?line=704'>705</a>\u001b[0m     method,\n\u001b[1;32m    <a href='file:///home/benoit/anaconda3/envs/omeka-ocr/lib/python3.9/site-packages/urllib3/connectionpool.py?line=705'>706</a>\u001b[0m     url,\n\u001b[1;32m    <a href='file:///home/benoit/anaconda3/envs/omeka-ocr/lib/python3.9/site-packages/urllib3/connectionpool.py?line=706'>707</a>\u001b[0m     timeout\u001b[39m=\u001b[39;49mtimeout_obj,\n\u001b[1;32m    <a href='file:///home/benoit/anaconda3/envs/omeka-ocr/lib/python3.9/site-packages/urllib3/connectionpool.py?line=707'>708</a>\u001b[0m     body\u001b[39m=\u001b[39;49mbody,\n\u001b[1;32m    <a href='file:///home/benoit/anaconda3/envs/omeka-ocr/lib/python3.9/site-packages/urllib3/connectionpool.py?line=708'>709</a>\u001b[0m     headers\u001b[39m=\u001b[39;49mheaders,\n\u001b[1;32m    <a href='file:///home/benoit/anaconda3/envs/omeka-ocr/lib/python3.9/site-packages/urllib3/connectionpool.py?line=709'>710</a>\u001b[0m     chunked\u001b[39m=\u001b[39;49mchunked,\n\u001b[1;32m    <a href='file:///home/benoit/anaconda3/envs/omeka-ocr/lib/python3.9/site-packages/urllib3/connectionpool.py?line=710'>711</a>\u001b[0m )\n\u001b[1;32m    <a href='file:///home/benoit/anaconda3/envs/omeka-ocr/lib/python3.9/site-packages/urllib3/connectionpool.py?line=712'>713</a>\u001b[0m \u001b[39m# If we're going to release the connection in ``finally:``, then\u001b[39;00m\n\u001b[1;32m    <a href='file:///home/benoit/anaconda3/envs/omeka-ocr/lib/python3.9/site-packages/urllib3/connectionpool.py?line=713'>714</a>\u001b[0m \u001b[39m# the response doesn't need to know about the connection. Otherwise\u001b[39;00m\n\u001b[1;32m    <a href='file:///home/benoit/anaconda3/envs/omeka-ocr/lib/python3.9/site-packages/urllib3/connectionpool.py?line=714'>715</a>\u001b[0m \u001b[39m# it will also try to release it and we'll have a double-release\u001b[39;00m\n\u001b[1;32m    <a href='file:///home/benoit/anaconda3/envs/omeka-ocr/lib/python3.9/site-packages/urllib3/connectionpool.py?line=715'>716</a>\u001b[0m \u001b[39m# mess.\u001b[39;00m\n",
      "File \u001b[0;32m~/anaconda3/envs/omeka-ocr/lib/python3.9/site-packages/urllib3/connectionpool.py:398\u001b[0m, in \u001b[0;36mHTTPConnectionPool._make_request\u001b[0;34m(self, conn, method, url, timeout, chunked, **httplib_request_kw)\u001b[0m\n\u001b[1;32m    <a href='file:///home/benoit/anaconda3/envs/omeka-ocr/lib/python3.9/site-packages/urllib3/connectionpool.py?line=396'>397</a>\u001b[0m     \u001b[39melse\u001b[39;00m:\n\u001b[0;32m--> <a href='file:///home/benoit/anaconda3/envs/omeka-ocr/lib/python3.9/site-packages/urllib3/connectionpool.py?line=397'>398</a>\u001b[0m         conn\u001b[39m.\u001b[39;49mrequest(method, url, \u001b[39m*\u001b[39;49m\u001b[39m*\u001b[39;49mhttplib_request_kw)\n\u001b[1;32m    <a href='file:///home/benoit/anaconda3/envs/omeka-ocr/lib/python3.9/site-packages/urllib3/connectionpool.py?line=399'>400</a>\u001b[0m \u001b[39m# We are swallowing BrokenPipeError (errno.EPIPE) since the server is\u001b[39;00m\n\u001b[1;32m    <a href='file:///home/benoit/anaconda3/envs/omeka-ocr/lib/python3.9/site-packages/urllib3/connectionpool.py?line=400'>401</a>\u001b[0m \u001b[39m# legitimately able to close the connection after sending a valid response.\u001b[39;00m\n\u001b[1;32m    <a href='file:///home/benoit/anaconda3/envs/omeka-ocr/lib/python3.9/site-packages/urllib3/connectionpool.py?line=401'>402</a>\u001b[0m \u001b[39m# With this behaviour, the received response is still readable.\u001b[39;00m\n",
      "File \u001b[0;32m~/anaconda3/envs/omeka-ocr/lib/python3.9/site-packages/urllib3/connection.py:239\u001b[0m, in \u001b[0;36mHTTPConnection.request\u001b[0;34m(self, method, url, body, headers)\u001b[0m\n\u001b[1;32m    <a href='file:///home/benoit/anaconda3/envs/omeka-ocr/lib/python3.9/site-packages/urllib3/connection.py?line=237'>238</a>\u001b[0m     headers[\u001b[39m\"\u001b[39m\u001b[39mUser-Agent\u001b[39m\u001b[39m\"\u001b[39m] \u001b[39m=\u001b[39m _get_default_user_agent()\n\u001b[0;32m--> <a href='file:///home/benoit/anaconda3/envs/omeka-ocr/lib/python3.9/site-packages/urllib3/connection.py?line=238'>239</a>\u001b[0m \u001b[39msuper\u001b[39;49m(HTTPConnection, \u001b[39mself\u001b[39;49m)\u001b[39m.\u001b[39;49mrequest(method, url, body\u001b[39m=\u001b[39;49mbody, headers\u001b[39m=\u001b[39;49mheaders)\n",
      "File \u001b[0;32m~/anaconda3/envs/omeka-ocr/lib/python3.9/http/client.py:1285\u001b[0m, in \u001b[0;36mHTTPConnection.request\u001b[0;34m(self, method, url, body, headers, encode_chunked)\u001b[0m\n\u001b[1;32m   <a href='file:///home/benoit/anaconda3/envs/omeka-ocr/lib/python3.9/http/client.py?line=1283'>1284</a>\u001b[0m \u001b[39m\"\"\"Send a complete request to the server.\"\"\"\u001b[39;00m\n\u001b[0;32m-> <a href='file:///home/benoit/anaconda3/envs/omeka-ocr/lib/python3.9/http/client.py?line=1284'>1285</a>\u001b[0m \u001b[39mself\u001b[39;49m\u001b[39m.\u001b[39;49m_send_request(method, url, body, headers, encode_chunked)\n",
      "File \u001b[0;32m~/anaconda3/envs/omeka-ocr/lib/python3.9/http/client.py:1331\u001b[0m, in \u001b[0;36mHTTPConnection._send_request\u001b[0;34m(self, method, url, body, headers, encode_chunked)\u001b[0m\n\u001b[1;32m   <a href='file:///home/benoit/anaconda3/envs/omeka-ocr/lib/python3.9/http/client.py?line=1329'>1330</a>\u001b[0m     body \u001b[39m=\u001b[39m _encode(body, \u001b[39m'\u001b[39m\u001b[39mbody\u001b[39m\u001b[39m'\u001b[39m)\n\u001b[0;32m-> <a href='file:///home/benoit/anaconda3/envs/omeka-ocr/lib/python3.9/http/client.py?line=1330'>1331</a>\u001b[0m \u001b[39mself\u001b[39;49m\u001b[39m.\u001b[39;49mendheaders(body, encode_chunked\u001b[39m=\u001b[39;49mencode_chunked)\n",
      "File \u001b[0;32m~/anaconda3/envs/omeka-ocr/lib/python3.9/http/client.py:1280\u001b[0m, in \u001b[0;36mHTTPConnection.endheaders\u001b[0;34m(self, message_body, encode_chunked)\u001b[0m\n\u001b[1;32m   <a href='file:///home/benoit/anaconda3/envs/omeka-ocr/lib/python3.9/http/client.py?line=1278'>1279</a>\u001b[0m     \u001b[39mraise\u001b[39;00m CannotSendHeader()\n\u001b[0;32m-> <a href='file:///home/benoit/anaconda3/envs/omeka-ocr/lib/python3.9/http/client.py?line=1279'>1280</a>\u001b[0m \u001b[39mself\u001b[39;49m\u001b[39m.\u001b[39;49m_send_output(message_body, encode_chunked\u001b[39m=\u001b[39;49mencode_chunked)\n",
      "File \u001b[0;32m~/anaconda3/envs/omeka-ocr/lib/python3.9/http/client.py:1040\u001b[0m, in \u001b[0;36mHTTPConnection._send_output\u001b[0;34m(self, message_body, encode_chunked)\u001b[0m\n\u001b[1;32m   <a href='file:///home/benoit/anaconda3/envs/omeka-ocr/lib/python3.9/http/client.py?line=1038'>1039</a>\u001b[0m \u001b[39mdel\u001b[39;00m \u001b[39mself\u001b[39m\u001b[39m.\u001b[39m_buffer[:]\n\u001b[0;32m-> <a href='file:///home/benoit/anaconda3/envs/omeka-ocr/lib/python3.9/http/client.py?line=1039'>1040</a>\u001b[0m \u001b[39mself\u001b[39;49m\u001b[39m.\u001b[39;49msend(msg)\n\u001b[1;32m   <a href='file:///home/benoit/anaconda3/envs/omeka-ocr/lib/python3.9/http/client.py?line=1041'>1042</a>\u001b[0m \u001b[39mif\u001b[39;00m message_body \u001b[39mis\u001b[39;00m \u001b[39mnot\u001b[39;00m \u001b[39mNone\u001b[39;00m:\n\u001b[1;32m   <a href='file:///home/benoit/anaconda3/envs/omeka-ocr/lib/python3.9/http/client.py?line=1042'>1043</a>\u001b[0m \n\u001b[1;32m   <a href='file:///home/benoit/anaconda3/envs/omeka-ocr/lib/python3.9/http/client.py?line=1043'>1044</a>\u001b[0m     \u001b[39m# create a consistent interface to message_body\u001b[39;00m\n",
      "File \u001b[0;32m~/anaconda3/envs/omeka-ocr/lib/python3.9/http/client.py:980\u001b[0m, in \u001b[0;36mHTTPConnection.send\u001b[0;34m(self, data)\u001b[0m\n\u001b[1;32m    <a href='file:///home/benoit/anaconda3/envs/omeka-ocr/lib/python3.9/http/client.py?line=978'>979</a>\u001b[0m \u001b[39mif\u001b[39;00m \u001b[39mself\u001b[39m\u001b[39m.\u001b[39mauto_open:\n\u001b[0;32m--> <a href='file:///home/benoit/anaconda3/envs/omeka-ocr/lib/python3.9/http/client.py?line=979'>980</a>\u001b[0m     \u001b[39mself\u001b[39;49m\u001b[39m.\u001b[39;49mconnect()\n\u001b[1;32m    <a href='file:///home/benoit/anaconda3/envs/omeka-ocr/lib/python3.9/http/client.py?line=980'>981</a>\u001b[0m \u001b[39melse\u001b[39;00m:\n",
      "File \u001b[0;32m~/anaconda3/envs/omeka-ocr/lib/python3.9/site-packages/urllib3/connection.py:205\u001b[0m, in \u001b[0;36mHTTPConnection.connect\u001b[0;34m(self)\u001b[0m\n\u001b[1;32m    <a href='file:///home/benoit/anaconda3/envs/omeka-ocr/lib/python3.9/site-packages/urllib3/connection.py?line=203'>204</a>\u001b[0m \u001b[39mdef\u001b[39;00m \u001b[39mconnect\u001b[39m(\u001b[39mself\u001b[39m):\n\u001b[0;32m--> <a href='file:///home/benoit/anaconda3/envs/omeka-ocr/lib/python3.9/site-packages/urllib3/connection.py?line=204'>205</a>\u001b[0m     conn \u001b[39m=\u001b[39m \u001b[39mself\u001b[39;49m\u001b[39m.\u001b[39;49m_new_conn()\n\u001b[1;32m    <a href='file:///home/benoit/anaconda3/envs/omeka-ocr/lib/python3.9/site-packages/urllib3/connection.py?line=205'>206</a>\u001b[0m     \u001b[39mself\u001b[39m\u001b[39m.\u001b[39m_prepare_conn(conn)\n",
      "File \u001b[0;32m~/anaconda3/envs/omeka-ocr/lib/python3.9/site-packages/urllib3/connection.py:186\u001b[0m, in \u001b[0;36mHTTPConnection._new_conn\u001b[0;34m(self)\u001b[0m\n\u001b[1;32m    <a href='file:///home/benoit/anaconda3/envs/omeka-ocr/lib/python3.9/site-packages/urllib3/connection.py?line=184'>185</a>\u001b[0m \u001b[39mexcept\u001b[39;00m SocketError \u001b[39mas\u001b[39;00m e:\n\u001b[0;32m--> <a href='file:///home/benoit/anaconda3/envs/omeka-ocr/lib/python3.9/site-packages/urllib3/connection.py?line=185'>186</a>\u001b[0m     \u001b[39mraise\u001b[39;00m NewConnectionError(\n\u001b[1;32m    <a href='file:///home/benoit/anaconda3/envs/omeka-ocr/lib/python3.9/site-packages/urllib3/connection.py?line=186'>187</a>\u001b[0m         \u001b[39mself\u001b[39m, \u001b[39m\"\u001b[39m\u001b[39mFailed to establish a new connection: \u001b[39m\u001b[39m%s\u001b[39;00m\u001b[39m\"\u001b[39m \u001b[39m%\u001b[39m e\n\u001b[1;32m    <a href='file:///home/benoit/anaconda3/envs/omeka-ocr/lib/python3.9/site-packages/urllib3/connection.py?line=187'>188</a>\u001b[0m     )\n\u001b[1;32m    <a href='file:///home/benoit/anaconda3/envs/omeka-ocr/lib/python3.9/site-packages/urllib3/connection.py?line=189'>190</a>\u001b[0m \u001b[39mreturn\u001b[39;00m conn\n",
      "\u001b[0;31mNewConnectionError\u001b[0m: <urllib3.connection.HTTPConnection object at 0x7f496fb62c10>: Failed to establish a new connection: [Errno 111] Connection refused",
      "\nDuring handling of the above exception, another exception occurred:\n",
      "\u001b[0;31mMaxRetryError\u001b[0m                             Traceback (most recent call last)",
      "File \u001b[0;32m~/anaconda3/envs/omeka-ocr/lib/python3.9/site-packages/requests/adapters.py:440\u001b[0m, in \u001b[0;36mHTTPAdapter.send\u001b[0;34m(self, request, stream, timeout, verify, cert, proxies)\u001b[0m\n\u001b[1;32m    <a href='file:///home/benoit/anaconda3/envs/omeka-ocr/lib/python3.9/site-packages/requests/adapters.py?line=438'>439</a>\u001b[0m \u001b[39mif\u001b[39;00m \u001b[39mnot\u001b[39;00m chunked:\n\u001b[0;32m--> <a href='file:///home/benoit/anaconda3/envs/omeka-ocr/lib/python3.9/site-packages/requests/adapters.py?line=439'>440</a>\u001b[0m     resp \u001b[39m=\u001b[39m conn\u001b[39m.\u001b[39;49murlopen(\n\u001b[1;32m    <a href='file:///home/benoit/anaconda3/envs/omeka-ocr/lib/python3.9/site-packages/requests/adapters.py?line=440'>441</a>\u001b[0m         method\u001b[39m=\u001b[39;49mrequest\u001b[39m.\u001b[39;49mmethod,\n\u001b[1;32m    <a href='file:///home/benoit/anaconda3/envs/omeka-ocr/lib/python3.9/site-packages/requests/adapters.py?line=441'>442</a>\u001b[0m         url\u001b[39m=\u001b[39;49murl,\n\u001b[1;32m    <a href='file:///home/benoit/anaconda3/envs/omeka-ocr/lib/python3.9/site-packages/requests/adapters.py?line=442'>443</a>\u001b[0m         body\u001b[39m=\u001b[39;49mrequest\u001b[39m.\u001b[39;49mbody,\n\u001b[1;32m    <a href='file:///home/benoit/anaconda3/envs/omeka-ocr/lib/python3.9/site-packages/requests/adapters.py?line=443'>444</a>\u001b[0m         headers\u001b[39m=\u001b[39;49mrequest\u001b[39m.\u001b[39;49mheaders,\n\u001b[1;32m    <a href='file:///home/benoit/anaconda3/envs/omeka-ocr/lib/python3.9/site-packages/requests/adapters.py?line=444'>445</a>\u001b[0m         redirect\u001b[39m=\u001b[39;49m\u001b[39mFalse\u001b[39;49;00m,\n\u001b[1;32m    <a href='file:///home/benoit/anaconda3/envs/omeka-ocr/lib/python3.9/site-packages/requests/adapters.py?line=445'>446</a>\u001b[0m         assert_same_host\u001b[39m=\u001b[39;49m\u001b[39mFalse\u001b[39;49;00m,\n\u001b[1;32m    <a href='file:///home/benoit/anaconda3/envs/omeka-ocr/lib/python3.9/site-packages/requests/adapters.py?line=446'>447</a>\u001b[0m         preload_content\u001b[39m=\u001b[39;49m\u001b[39mFalse\u001b[39;49;00m,\n\u001b[1;32m    <a href='file:///home/benoit/anaconda3/envs/omeka-ocr/lib/python3.9/site-packages/requests/adapters.py?line=447'>448</a>\u001b[0m         decode_content\u001b[39m=\u001b[39;49m\u001b[39mFalse\u001b[39;49;00m,\n\u001b[1;32m    <a href='file:///home/benoit/anaconda3/envs/omeka-ocr/lib/python3.9/site-packages/requests/adapters.py?line=448'>449</a>\u001b[0m         retries\u001b[39m=\u001b[39;49m\u001b[39mself\u001b[39;49m\u001b[39m.\u001b[39;49mmax_retries,\n\u001b[1;32m    <a href='file:///home/benoit/anaconda3/envs/omeka-ocr/lib/python3.9/site-packages/requests/adapters.py?line=449'>450</a>\u001b[0m         timeout\u001b[39m=\u001b[39;49mtimeout\n\u001b[1;32m    <a href='file:///home/benoit/anaconda3/envs/omeka-ocr/lib/python3.9/site-packages/requests/adapters.py?line=450'>451</a>\u001b[0m     )\n\u001b[1;32m    <a href='file:///home/benoit/anaconda3/envs/omeka-ocr/lib/python3.9/site-packages/requests/adapters.py?line=452'>453</a>\u001b[0m \u001b[39m# Send the request.\u001b[39;00m\n\u001b[1;32m    <a href='file:///home/benoit/anaconda3/envs/omeka-ocr/lib/python3.9/site-packages/requests/adapters.py?line=453'>454</a>\u001b[0m \u001b[39melse\u001b[39;00m:\n",
      "File \u001b[0;32m~/anaconda3/envs/omeka-ocr/lib/python3.9/site-packages/urllib3/connectionpool.py:785\u001b[0m, in \u001b[0;36mHTTPConnectionPool.urlopen\u001b[0;34m(self, method, url, body, headers, retries, redirect, assert_same_host, timeout, pool_timeout, release_conn, chunked, body_pos, **response_kw)\u001b[0m\n\u001b[1;32m    <a href='file:///home/benoit/anaconda3/envs/omeka-ocr/lib/python3.9/site-packages/urllib3/connectionpool.py?line=782'>783</a>\u001b[0m     e \u001b[39m=\u001b[39m ProtocolError(\u001b[39m\"\u001b[39m\u001b[39mConnection aborted.\u001b[39m\u001b[39m\"\u001b[39m, e)\n\u001b[0;32m--> <a href='file:///home/benoit/anaconda3/envs/omeka-ocr/lib/python3.9/site-packages/urllib3/connectionpool.py?line=784'>785</a>\u001b[0m retries \u001b[39m=\u001b[39m retries\u001b[39m.\u001b[39;49mincrement(\n\u001b[1;32m    <a href='file:///home/benoit/anaconda3/envs/omeka-ocr/lib/python3.9/site-packages/urllib3/connectionpool.py?line=785'>786</a>\u001b[0m     method, url, error\u001b[39m=\u001b[39;49me, _pool\u001b[39m=\u001b[39;49m\u001b[39mself\u001b[39;49m, _stacktrace\u001b[39m=\u001b[39;49msys\u001b[39m.\u001b[39;49mexc_info()[\u001b[39m2\u001b[39;49m]\n\u001b[1;32m    <a href='file:///home/benoit/anaconda3/envs/omeka-ocr/lib/python3.9/site-packages/urllib3/connectionpool.py?line=786'>787</a>\u001b[0m )\n\u001b[1;32m    <a href='file:///home/benoit/anaconda3/envs/omeka-ocr/lib/python3.9/site-packages/urllib3/connectionpool.py?line=787'>788</a>\u001b[0m retries\u001b[39m.\u001b[39msleep()\n",
      "File \u001b[0;32m~/anaconda3/envs/omeka-ocr/lib/python3.9/site-packages/urllib3/util/retry.py:592\u001b[0m, in \u001b[0;36mRetry.increment\u001b[0;34m(self, method, url, response, error, _pool, _stacktrace)\u001b[0m\n\u001b[1;32m    <a href='file:///home/benoit/anaconda3/envs/omeka-ocr/lib/python3.9/site-packages/urllib3/util/retry.py?line=590'>591</a>\u001b[0m \u001b[39mif\u001b[39;00m new_retry\u001b[39m.\u001b[39mis_exhausted():\n\u001b[0;32m--> <a href='file:///home/benoit/anaconda3/envs/omeka-ocr/lib/python3.9/site-packages/urllib3/util/retry.py?line=591'>592</a>\u001b[0m     \u001b[39mraise\u001b[39;00m MaxRetryError(_pool, url, error \u001b[39mor\u001b[39;00m ResponseError(cause))\n\u001b[1;32m    <a href='file:///home/benoit/anaconda3/envs/omeka-ocr/lib/python3.9/site-packages/urllib3/util/retry.py?line=593'>594</a>\u001b[0m log\u001b[39m.\u001b[39mdebug(\u001b[39m\"\u001b[39m\u001b[39mIncremented Retry for (url=\u001b[39m\u001b[39m'\u001b[39m\u001b[39m%s\u001b[39;00m\u001b[39m'\u001b[39m\u001b[39m): \u001b[39m\u001b[39m%r\u001b[39;00m\u001b[39m\"\u001b[39m, url, new_retry)\n",
      "\u001b[0;31mMaxRetryError\u001b[0m: HTTPConnectionPool(host='localhost', port=8001): Max retries exceeded with url: /api/properties?key_identity=cLlm6eW6LlE7W2u53BcVEnJ4yarvWrcy&key_credential=JzItg9VPxW6aN6wGccRHC4ZjcMH5q0tW&term=bibo%3Acontent (Caused by NewConnectionError('<urllib3.connection.HTTPConnection object at 0x7f496fb62c10>: Failed to establish a new connection: [Errno 111] Connection refused'))",
      "\nDuring handling of the above exception, another exception occurred:\n",
      "\u001b[0;31mConnectionError\u001b[0m                           Traceback (most recent call last)",
      "\u001b[1;32m/home/benoit/consulting_local/digital-archive/ocr_service/Omeka API.ipynb Cell 4'\u001b[0m in \u001b[0;36m<cell line: 1>\u001b[0;34m()\u001b[0m\n\u001b[0;32m----> <a href='vscode-notebook-cell://ssh-remote%2Bhome.benoitseguin.net/home/benoit/consulting_local/digital-archive/ocr_service/Omeka%20API.ipynb#ch0000003vscode-remote?line=0'>1</a>\u001b[0m BIBO_CONTENT_ID \u001b[39m=\u001b[39m api\u001b[39m.\u001b[39;49mget_property_id(\u001b[39m\"\u001b[39;49m\u001b[39mbibo:content\u001b[39;49m\u001b[39m\"\u001b[39;49m)\n\u001b[1;32m      <a href='vscode-notebook-cell://ssh-remote%2Bhome.benoitseguin.net/home/benoit/consulting_local/digital-archive/ocr_service/Omeka%20API.ipynb#ch0000003vscode-remote?line=1'>2</a>\u001b[0m BIBO_CONTENT_ID\n",
      "File \u001b[0;32m~/consulting_local/digital-archive/ocr_service/omeka.py:59\u001b[0m, in \u001b[0;36mOmekaSGateway.get_property_id\u001b[0;34m(self, property_name)\u001b[0m\n\u001b[1;32m     <a href='file:///home/benoit/consulting_local/digital-archive/ocr_service/omeka.py?line=57'>58</a>\u001b[0m \u001b[39mdef\u001b[39;00m \u001b[39mget_property_id\u001b[39m(\u001b[39mself\u001b[39m, property_name: \u001b[39mstr\u001b[39m) \u001b[39m-\u001b[39m\u001b[39m>\u001b[39m \u001b[39mint\u001b[39m:\n\u001b[0;32m---> <a href='file:///home/benoit/consulting_local/digital-archive/ocr_service/omeka.py?line=58'>59</a>\u001b[0m     d \u001b[39m=\u001b[39m \u001b[39mself\u001b[39;49m\u001b[39m.\u001b[39;49m_request_endpoint(\u001b[39m'\u001b[39;49m\u001b[39mproperties\u001b[39;49m\u001b[39m'\u001b[39;49m, params\u001b[39m=\u001b[39;49m\u001b[39mdict\u001b[39;49m(term\u001b[39m=\u001b[39;49mproperty_name))\n\u001b[1;32m     <a href='file:///home/benoit/consulting_local/digital-archive/ocr_service/omeka.py?line=59'>60</a>\u001b[0m     \u001b[39mreturn\u001b[39;00m d[\u001b[39m0\u001b[39m][\u001b[39m\"\u001b[39m\u001b[39mo:id\u001b[39m\u001b[39m\"\u001b[39m]\n",
      "File \u001b[0;32m~/consulting_local/digital-archive/ocr_service/omeka.py:26\u001b[0m, in \u001b[0;36mOmekaSGateway._request_endpoint\u001b[0;34m(self, endpoint, params, method, files)\u001b[0m\n\u001b[1;32m     <a href='file:///home/benoit/consulting_local/digital-archive/ocr_service/omeka.py?line=23'>24</a>\u001b[0m \u001b[39mif\u001b[39;00m method \u001b[39m==\u001b[39m \u001b[39m\"\u001b[39m\u001b[39mGET\u001b[39m\u001b[39m\"\u001b[39m:\n\u001b[1;32m     <a href='file:///home/benoit/consulting_local/digital-archive/ocr_service/omeka.py?line=24'>25</a>\u001b[0m     \u001b[39massert\u001b[39;00m \u001b[39mlen\u001b[39m(files) \u001b[39m==\u001b[39m \u001b[39m0\u001b[39m\n\u001b[0;32m---> <a href='file:///home/benoit/consulting_local/digital-archive/ocr_service/omeka.py?line=25'>26</a>\u001b[0m     r \u001b[39m=\u001b[39m requests\u001b[39m.\u001b[39;49mget(uri, params\u001b[39m=\u001b[39;49m{\u001b[39m*\u001b[39;49m\u001b[39m*\u001b[39;49mauth_params, \u001b[39m*\u001b[39;49m\u001b[39m*\u001b[39;49mparams})\n\u001b[1;32m     <a href='file:///home/benoit/consulting_local/digital-archive/ocr_service/omeka.py?line=26'>27</a>\u001b[0m \u001b[39melif\u001b[39;00m method \u001b[39m==\u001b[39m \u001b[39m\"\u001b[39m\u001b[39mPOST\u001b[39m\u001b[39m\"\u001b[39m:\n\u001b[1;32m     <a href='file:///home/benoit/consulting_local/digital-archive/ocr_service/omeka.py?line=27'>28</a>\u001b[0m     \u001b[39mif\u001b[39;00m files:\n",
      "File \u001b[0;32m~/anaconda3/envs/omeka-ocr/lib/python3.9/site-packages/requests/api.py:75\u001b[0m, in \u001b[0;36mget\u001b[0;34m(url, params, **kwargs)\u001b[0m\n\u001b[1;32m     <a href='file:///home/benoit/anaconda3/envs/omeka-ocr/lib/python3.9/site-packages/requests/api.py?line=63'>64</a>\u001b[0m \u001b[39mdef\u001b[39;00m \u001b[39mget\u001b[39m(url, params\u001b[39m=\u001b[39m\u001b[39mNone\u001b[39;00m, \u001b[39m*\u001b[39m\u001b[39m*\u001b[39mkwargs):\n\u001b[1;32m     <a href='file:///home/benoit/anaconda3/envs/omeka-ocr/lib/python3.9/site-packages/requests/api.py?line=64'>65</a>\u001b[0m     \u001b[39mr\u001b[39m\u001b[39m\"\"\"Sends a GET request.\u001b[39;00m\n\u001b[1;32m     <a href='file:///home/benoit/anaconda3/envs/omeka-ocr/lib/python3.9/site-packages/requests/api.py?line=65'>66</a>\u001b[0m \n\u001b[1;32m     <a href='file:///home/benoit/anaconda3/envs/omeka-ocr/lib/python3.9/site-packages/requests/api.py?line=66'>67</a>\u001b[0m \u001b[39m    :param url: URL for the new :class:`Request` object.\u001b[39;00m\n\u001b[0;32m   (...)\u001b[0m\n\u001b[1;32m     <a href='file:///home/benoit/anaconda3/envs/omeka-ocr/lib/python3.9/site-packages/requests/api.py?line=71'>72</a>\u001b[0m \u001b[39m    :rtype: requests.Response\u001b[39;00m\n\u001b[1;32m     <a href='file:///home/benoit/anaconda3/envs/omeka-ocr/lib/python3.9/site-packages/requests/api.py?line=72'>73</a>\u001b[0m \u001b[39m    \"\"\"\u001b[39;00m\n\u001b[0;32m---> <a href='file:///home/benoit/anaconda3/envs/omeka-ocr/lib/python3.9/site-packages/requests/api.py?line=74'>75</a>\u001b[0m     \u001b[39mreturn\u001b[39;00m request(\u001b[39m'\u001b[39;49m\u001b[39mget\u001b[39;49m\u001b[39m'\u001b[39;49m, url, params\u001b[39m=\u001b[39;49mparams, \u001b[39m*\u001b[39;49m\u001b[39m*\u001b[39;49mkwargs)\n",
      "File \u001b[0;32m~/anaconda3/envs/omeka-ocr/lib/python3.9/site-packages/requests/api.py:61\u001b[0m, in \u001b[0;36mrequest\u001b[0;34m(method, url, **kwargs)\u001b[0m\n\u001b[1;32m     <a href='file:///home/benoit/anaconda3/envs/omeka-ocr/lib/python3.9/site-packages/requests/api.py?line=56'>57</a>\u001b[0m \u001b[39m# By using the 'with' statement we are sure the session is closed, thus we\u001b[39;00m\n\u001b[1;32m     <a href='file:///home/benoit/anaconda3/envs/omeka-ocr/lib/python3.9/site-packages/requests/api.py?line=57'>58</a>\u001b[0m \u001b[39m# avoid leaving sockets open which can trigger a ResourceWarning in some\u001b[39;00m\n\u001b[1;32m     <a href='file:///home/benoit/anaconda3/envs/omeka-ocr/lib/python3.9/site-packages/requests/api.py?line=58'>59</a>\u001b[0m \u001b[39m# cases, and look like a memory leak in others.\u001b[39;00m\n\u001b[1;32m     <a href='file:///home/benoit/anaconda3/envs/omeka-ocr/lib/python3.9/site-packages/requests/api.py?line=59'>60</a>\u001b[0m \u001b[39mwith\u001b[39;00m sessions\u001b[39m.\u001b[39mSession() \u001b[39mas\u001b[39;00m session:\n\u001b[0;32m---> <a href='file:///home/benoit/anaconda3/envs/omeka-ocr/lib/python3.9/site-packages/requests/api.py?line=60'>61</a>\u001b[0m     \u001b[39mreturn\u001b[39;00m session\u001b[39m.\u001b[39;49mrequest(method\u001b[39m=\u001b[39;49mmethod, url\u001b[39m=\u001b[39;49murl, \u001b[39m*\u001b[39;49m\u001b[39m*\u001b[39;49mkwargs)\n",
      "File \u001b[0;32m~/anaconda3/envs/omeka-ocr/lib/python3.9/site-packages/requests/sessions.py:529\u001b[0m, in \u001b[0;36mSession.request\u001b[0;34m(self, method, url, params, data, headers, cookies, files, auth, timeout, allow_redirects, proxies, hooks, stream, verify, cert, json)\u001b[0m\n\u001b[1;32m    <a href='file:///home/benoit/anaconda3/envs/omeka-ocr/lib/python3.9/site-packages/requests/sessions.py?line=523'>524</a>\u001b[0m send_kwargs \u001b[39m=\u001b[39m {\n\u001b[1;32m    <a href='file:///home/benoit/anaconda3/envs/omeka-ocr/lib/python3.9/site-packages/requests/sessions.py?line=524'>525</a>\u001b[0m     \u001b[39m'\u001b[39m\u001b[39mtimeout\u001b[39m\u001b[39m'\u001b[39m: timeout,\n\u001b[1;32m    <a href='file:///home/benoit/anaconda3/envs/omeka-ocr/lib/python3.9/site-packages/requests/sessions.py?line=525'>526</a>\u001b[0m     \u001b[39m'\u001b[39m\u001b[39mallow_redirects\u001b[39m\u001b[39m'\u001b[39m: allow_redirects,\n\u001b[1;32m    <a href='file:///home/benoit/anaconda3/envs/omeka-ocr/lib/python3.9/site-packages/requests/sessions.py?line=526'>527</a>\u001b[0m }\n\u001b[1;32m    <a href='file:///home/benoit/anaconda3/envs/omeka-ocr/lib/python3.9/site-packages/requests/sessions.py?line=527'>528</a>\u001b[0m send_kwargs\u001b[39m.\u001b[39mupdate(settings)\n\u001b[0;32m--> <a href='file:///home/benoit/anaconda3/envs/omeka-ocr/lib/python3.9/site-packages/requests/sessions.py?line=528'>529</a>\u001b[0m resp \u001b[39m=\u001b[39m \u001b[39mself\u001b[39;49m\u001b[39m.\u001b[39;49msend(prep, \u001b[39m*\u001b[39;49m\u001b[39m*\u001b[39;49msend_kwargs)\n\u001b[1;32m    <a href='file:///home/benoit/anaconda3/envs/omeka-ocr/lib/python3.9/site-packages/requests/sessions.py?line=530'>531</a>\u001b[0m \u001b[39mreturn\u001b[39;00m resp\n",
      "File \u001b[0;32m~/anaconda3/envs/omeka-ocr/lib/python3.9/site-packages/requests/sessions.py:645\u001b[0m, in \u001b[0;36mSession.send\u001b[0;34m(self, request, **kwargs)\u001b[0m\n\u001b[1;32m    <a href='file:///home/benoit/anaconda3/envs/omeka-ocr/lib/python3.9/site-packages/requests/sessions.py?line=641'>642</a>\u001b[0m start \u001b[39m=\u001b[39m preferred_clock()\n\u001b[1;32m    <a href='file:///home/benoit/anaconda3/envs/omeka-ocr/lib/python3.9/site-packages/requests/sessions.py?line=643'>644</a>\u001b[0m \u001b[39m# Send the request\u001b[39;00m\n\u001b[0;32m--> <a href='file:///home/benoit/anaconda3/envs/omeka-ocr/lib/python3.9/site-packages/requests/sessions.py?line=644'>645</a>\u001b[0m r \u001b[39m=\u001b[39m adapter\u001b[39m.\u001b[39;49msend(request, \u001b[39m*\u001b[39;49m\u001b[39m*\u001b[39;49mkwargs)\n\u001b[1;32m    <a href='file:///home/benoit/anaconda3/envs/omeka-ocr/lib/python3.9/site-packages/requests/sessions.py?line=646'>647</a>\u001b[0m \u001b[39m# Total elapsed time of the request (approximately)\u001b[39;00m\n\u001b[1;32m    <a href='file:///home/benoit/anaconda3/envs/omeka-ocr/lib/python3.9/site-packages/requests/sessions.py?line=647'>648</a>\u001b[0m elapsed \u001b[39m=\u001b[39m preferred_clock() \u001b[39m-\u001b[39m start\n",
      "File \u001b[0;32m~/anaconda3/envs/omeka-ocr/lib/python3.9/site-packages/requests/adapters.py:519\u001b[0m, in \u001b[0;36mHTTPAdapter.send\u001b[0;34m(self, request, stream, timeout, verify, cert, proxies)\u001b[0m\n\u001b[1;32m    <a href='file:///home/benoit/anaconda3/envs/omeka-ocr/lib/python3.9/site-packages/requests/adapters.py?line=514'>515</a>\u001b[0m     \u001b[39mif\u001b[39;00m \u001b[39misinstance\u001b[39m(e\u001b[39m.\u001b[39mreason, _SSLError):\n\u001b[1;32m    <a href='file:///home/benoit/anaconda3/envs/omeka-ocr/lib/python3.9/site-packages/requests/adapters.py?line=515'>516</a>\u001b[0m         \u001b[39m# This branch is for urllib3 v1.22 and later.\u001b[39;00m\n\u001b[1;32m    <a href='file:///home/benoit/anaconda3/envs/omeka-ocr/lib/python3.9/site-packages/requests/adapters.py?line=516'>517</a>\u001b[0m         \u001b[39mraise\u001b[39;00m SSLError(e, request\u001b[39m=\u001b[39mrequest)\n\u001b[0;32m--> <a href='file:///home/benoit/anaconda3/envs/omeka-ocr/lib/python3.9/site-packages/requests/adapters.py?line=518'>519</a>\u001b[0m     \u001b[39mraise\u001b[39;00m \u001b[39mConnectionError\u001b[39;00m(e, request\u001b[39m=\u001b[39mrequest)\n\u001b[1;32m    <a href='file:///home/benoit/anaconda3/envs/omeka-ocr/lib/python3.9/site-packages/requests/adapters.py?line=520'>521</a>\u001b[0m \u001b[39mexcept\u001b[39;00m ClosedPoolError \u001b[39mas\u001b[39;00m e:\n\u001b[1;32m    <a href='file:///home/benoit/anaconda3/envs/omeka-ocr/lib/python3.9/site-packages/requests/adapters.py?line=521'>522</a>\u001b[0m     \u001b[39mraise\u001b[39;00m \u001b[39mConnectionError\u001b[39;00m(e, request\u001b[39m=\u001b[39mrequest)\n",
      "\u001b[0;31mConnectionError\u001b[0m: HTTPConnectionPool(host='localhost', port=8001): Max retries exceeded with url: /api/properties?key_identity=cLlm6eW6LlE7W2u53BcVEnJ4yarvWrcy&key_credential=JzItg9VPxW6aN6wGccRHC4ZjcMH5q0tW&term=bibo%3Acontent (Caused by NewConnectionError('<urllib3.connection.HTTPConnection object at 0x7f496fb62c10>: Failed to establish a new connection: [Errno 111] Connection refused'))"
     ]
    }
   ],
   "source": [
    "BIBO_CONTENT_ID = api.get_property_id(\"bibo:content\")\n",
    "BIBO_CONTENT_ID"
   ]
  },
  {
   "cell_type": "code",
   "execution_count": null,
   "id": "f8946d4f",
   "metadata": {},
   "outputs": [],
   "source": [
    "api.update_item()"
   ]
  },
  {
   "cell_type": "code",
   "execution_count": 38,
   "id": "58309ed0",
   "metadata": {},
   "outputs": [
    {
     "data": {
      "text/plain": [
       "{'@context': 'http://localhost:8001/api-context',\n",
       " '@id': 'http://localhost:8001/api/media/6',\n",
       " '@type': 'o:Media',\n",
       " 'o:id': 6,\n",
       " 'o:is_public': True,\n",
       " 'o:owner': {'@id': 'http://localhost:8001/api/users/1', 'o:id': 1},\n",
       " 'o:resource_class': None,\n",
       " 'o:resource_template': None,\n",
       " 'o:thumbnail': None,\n",
       " 'o:title': None,\n",
       " 'thumbnail_display_urls': {'large': 'http://localhost:8001/files/large/d6afc644de7dd106c7058177eb13adcaddd7e1a2.jpg',\n",
       "  'medium': 'http://localhost:8001/files/medium/d6afc644de7dd106c7058177eb13adcaddd7e1a2.jpg',\n",
       "  'square': 'http://localhost:8001/files/square/d6afc644de7dd106c7058177eb13adcaddd7e1a2.jpg'},\n",
       " 'o:created': {'@value': '2022-03-14T01:44:45+00:00',\n",
       "  '@type': 'http://www.w3.org/2001/XMLSchema#dateTime'},\n",
       " 'o:modified': {'@value': '2022-03-14T01:44:45+00:00',\n",
       "  '@type': 'http://www.w3.org/2001/XMLSchema#dateTime'},\n",
       " 'o:ingester': 'upload',\n",
       " 'o:renderer': 'file',\n",
       " 'o:item': {'@id': 'http://localhost:8001/api/items/1', 'o:id': 1},\n",
       " 'o:source': 'Processed File',\n",
       " 'o:media_type': 'application/pdf',\n",
       " 'o:sha256': 'e6599f8432db02347571e1addb1d073c85948d91e206d832c503520eb5601143',\n",
       " 'o:size': 15756153,\n",
       " 'o:filename': 'd6afc644de7dd106c7058177eb13adcaddd7e1a2.pdf',\n",
       " 'o:lang': None,\n",
       " 'o:alt_text': None,\n",
       " 'o:original_url': 'http://localhost:8001/files/original/d6afc644de7dd106c7058177eb13adcaddd7e1a2.pdf',\n",
       " 'o:thumbnail_urls': {'large': 'http://localhost:8001/files/large/d6afc644de7dd106c7058177eb13adcaddd7e1a2.jpg',\n",
       "  'medium': 'http://localhost:8001/files/medium/d6afc644de7dd106c7058177eb13adcaddd7e1a2.jpg',\n",
       "  'square': 'http://localhost:8001/files/square/d6afc644de7dd106c7058177eb13adcaddd7e1a2.jpg'},\n",
       " 'data': []}"
      ]
     },
     "execution_count": 38,
     "metadata": {},
     "output_type": "execute_result"
    }
   ],
   "source": [
    "api.add_media(1, \"Processed File\", file, mimetype=\"application/pdf\")"
   ]
  },
  {
   "cell_type": "code",
   "execution_count": 5,
   "id": "29982cc5",
   "metadata": {},
   "outputs": [
    {
     "name": "stdout",
     "output_type": "stream",
     "text": [
      "http://localhost:8001/files/original/488d4eb2ba8f2c7c49b376bf646e889219a3c0db.pdf\n"
     ]
    }
   ],
   "source": [
    "media_url = api.list_medias(resource_template_id=None)[0]['o:original_url']\n",
    "print(media_url)\n",
    "file = download_file(media_url)"
   ]
  },
  {
   "cell_type": "code",
   "execution_count": 19,
   "id": "dc8ffbd1",
   "metadata": {},
   "outputs": [
    {
     "name": "stdout",
     "output_type": "stream",
     "text": [
      "        \n",
      "   \n",
      "    \n",
      " 24  :  تجد  اهلا 2 \n",
      "    \n",
      " ةعرزم لا شئروك- كاثيل  - تورس\n",
      " هّورم  هللا  ربع  تالهاك  حللم\n",
      " 00  كى  (  ةيعاطقالاو  ةئرئاشعلاو  ةيفئاطلا     ةيشافلاةعويملا  هذه  عنمب  بل .اطن اه لانحنوا   .ةروثلا ت فاقنوئملم   مفعددهللااو   دىيلبعآتلا تق فتداتيقرب   م|ي6ك0]4.2  عنواطسليتن   )‏- 611 ١ثنبءس.لصا\n",
      " صاخ  لكشب  ينائبللا  حيسملا  :طسولا  لاتتقالا ترجف  ينلا  بئاتكلا  ةرماأل لي  دعب  وةيصت  ج\n",
      "    مهو  اوطقس  نيذلا  ءادهشلل  دجملا\n",
      " روهظ.(  رهاوظلا  هذه  نم  ريثكلا  دهشب  يذملا  تقولا  سفن  يف  »  ةينيطسلفلا  ةسراسلا  نسلا -  6١‏   درعلا\n",
      " 2  ةرمدم  ةبلها  برح  هتدده و2  ؛  © تدوأد ٠‏   نييلاصفنالا  نيمرجملا  ءالؤه  نولتاقي  ةرماؤملاب  تايقربلا  هذه  هيف  تددن\n",
      " تاكرح  6 مهتكرح  ومنو  نيمرتلمللا  نييحيسلا\n",
      "   72  7|  »تاونهكلا  كلسو  ةسيئكلا  لخاد  نيلضانملا  نسم  ديدعلا  5  اولاد  نيبنعشلا  نيب  ام  ةدح و. لايبلحتالو  ,  ةيشافلا  ةيبئاتكلا  دييسشلا  5391  فاع اهررصأا   \n",
      " حالصالا     تسيل  ةرماؤاا  هذه  نا . ينال  .  ينانبللاو  ينيطسلفلا  ةطبارلا  (  تلسرأ  :  غروبماه  نم  ب م مل ااجسفف   \n",
      " نارسطملا  ناجرهم  3  دادج  نارطلا ةيضق     الو  ©  يلخادلا ينانبللا  عضولا  نع  7و  :  عيقوتلا\n",
      " '00|كلذ ريغو  ريوشلا  روهض  يف  يحوبك  :  ةيلاتلا  ةيقربلا  »  ةيعويشلا\n",
      "    تاططخلملاو  نيعارلا  . ؛يبرعلا تيارت  هروبول  ةعماج  ةبلط  داحتا  :  ءازعالا  قافرملا  ىلا  «  7  تسلا مس\n",
      " ..10   هرليثك  .ةقطنملا  اه  همنا  ي     ةينانويلا  ةيعمجلا  اذه  يف  لماكلا  يوخالا  اننماضت  ,  ةفقسملا  رييدملا\n",
      "       ةيكرتلا  ةيعمجلا  نوحضتو  هيف  نولتاقت  يذلا  تقولا  ديبيأتلا  تايقر      \n",
      "    ماا رو _  ٍ\n",
      " ةيكارتشالا  ةيعمجلا  ينيطسلفلا  بعشلا  ةيضق  لجا  نم\n",
      " اسس  \" ئر ر“ىلرع  لقفراتت     \n",
      " ةيملاعمللا  ةيكارتشالا  ةيعمجلا  ,  )»  رصتنت  ناو  دب  ال  يتلا\n",
      "    ‏ عتيلذذ ود م5حم  ر   \n",
      " ةيدنهلا  ةيعمجلا\n",
      " اينئاطيرب  يف  هروبول  ةعماج  نم\n",
      " ةيناتسكابلا  ةيعمجلا  نحن  :  اهصن  يلاتلا  ةيقربملا  انتدرو  ةمم ا ا بٌجامش\n",
      " م  عملا]  0\n",
      " )  ةيبرعلا  ةيعمجلا  (  يف  هروبول  ةعماج  نم  هاندا  نوعقوملا\n",
      "  \n",
      " ةعشبلا  لتقمللا  ةيلمع  نيدن  »  ارتلكنا  منلعم  ءةيسات  /      \n",
      " انيملا  نوقربملا  قافرلا  اهيا  ادهع  »  نيينيطسلفلا  دض  ةدمعتملا  ةلذنلاو  لق  +  نانبل   \n",
      "    نأ  :  لداعلا  انئاضنل  امعدو  اديبات  بئاتكلا  ةهعومجم  اهتبكترا  يتلا  قاطمل  ا  اهدّكيأت  |  سلف \"٠‏   ايروس   \n",
      " سلف ٠‏   تيوكلا\n",
      " تارماؤملا  ةفاكو  »ةرماؤملا  هذه  لتاقن  .  .ةيعجرلاو  ةيبشافلا\n",
      " اسرد  لباقملاب نوكت  نا  بجي  »  الاب  اشرد  »  اهءارو  سلف  ندرالا\n",
      " ةينائبللاةيمدقتلاو  ةينطولا  ةكرحللو  اهسفن  ةمواقملل  مهعقاوم  فالستخإ  ىلع  نيلتاقم لناي  »  ةينيطسلفلا  انتيضق  فدهتست  يتلا  هذه  لتقلا  ةميرج  ءارو  فدهلا  نا  مينيطسلفلا  هروملل  سلف  81.  ةيطارقميدلا  نميلا\n",
      " سلف  م.  0  قارعلا\n",
      " :  يلي  ام  ىلع  زكتري  نا  بجي  سردلا  اذهو  ..  اهعم  مهأو  لوا  تطقسا  ةدحولا هزيؤ  ةيئيطسلفلا  ةمواق]ا  ةكرح  تلكش  وا ا  ريرحتلا  لماك  ريرحت  متي  ىتح  ةدحوب  روعشلاو  ماجسنالا  ميطحت  وش\n",
      " .  ينيطسلفلا  .  يبرعملا  بعشلا  ريهامج  نيب  فدهلا  ميلم ٠‏   كردي\n",
      " يساسالا  زجاحلا  يه  ةمواقملا  ةدحو  نأ  :  الوا  ©  اسودحافكو  »  ةيمدقتلا  ةين ااهماعل  يل  1\n",
      "    ,  يتلا  تارماؤملا  عاوناو  لاكشا  عيمج  هجو  يف  يلوالاو  زكترت  ينلا  سسالل  اضيقن ادو<3  6   مميهلرمد ٠1‏   نادو اسيلبيال\n",
      "1 \n",
      " لوح. ةدحولا  هذه  نآو  ..  ةكرحلا  هذه  اهل  ضرعتت  »ةلقتسل !ةيفئاطلا و 0   ديباتلاو  معدلا  تايقرب  نم  ديزملا  -  سلف ١٠..‏    يبرعلا  جيلخلا\n",
      "  \n",
      " مهاو  لوا  يه »  مزاحو  حضاو  يروث  يسايس  طخ  ُك رسبحتل  ةيامحو  نامض راشنلا  را |  ءا .ذي همش لأا  رسال  1 ةريببلا  ةيلاج  نم 1 رالودا ٠‏   ,  فدهلا  ىلأ  ىلاوتت    ١   نامهرد  برغم لا‎مر  \n",
      " تالاضنلا  ةفاك  اهوحن  هجنت  نأ  بجي  يتلا  تامهملا  نسطولا  ريمامجو  ملاعلا  رارحآ\n",
      "    ' ة0ي0نطولا  ةكرحل ا1  عم  فلاحتلا  نا  :   .اينا ثيعا س©ملاو   ةينطوالا  ةكرخلا  نيو  سان   1ر1ا    ءاديشلا  3  د  بئاتكلا  مئارجب  نودد ن.ي  ة ييشبارفعللاا  )  ‎تاكزرعصللا ١    \n",
      " يناثلا  يساسالا  زجاحلا  وه  »  ةينانبللا  ةيمدقتلاو  *  نيلقمملاو  :  5  مهمعد  نع  نوبرعي  نوقربملا\n",
      "  \n",
      " امه  ناتكرحلا  اهل  ضرعتت  يتلا  تارماؤملا  هجو  يف  ومنت  تذخا  »  عضولا اذه  ةهج ا  ةيرهاز  دمحا  ودآ  نم  نالود  700  1  نونيديو  »  ةينيطسلفلا  ةروثلل  قلطملا\n",
      " قينطسضم  :ذدمحا\"  سس  رالود  نبا ١‏   اهسرامت  يتلا  ةنايخلاو  ردغلا  تايلمع\n",
      " ءاقبا .الوبقم  دعب  مل  يلاتلابو  ©  اهدرفمب  امهنم  لكوا  ؛ةيفئاطلاو  ةيلازعنالاو  ةةييععججرلا  اك  ةحلسا  ع.م.ج  و  ايروسو  نانبل  يف\n",
      " ةريدحل انم\n",
      " »لدابتملا  يسايسلا  هديباثلا  قاطن نمض  فلاحتلا  اذه ٠  ٠١‏   بئاتكلا  ةئدو  8  دضا  هاف  موجه  نش 70  ناود  3  ,  بئاتكلا  تاباصع  تاسسؤملل  ل.ل  ؟0ندرالاو   \n",
      " يتشملا٠‏ \n",
      " يي  نم  نود  10 53\n",
      " .ةيلمع  تايوتسم  ىلا. هب  عفدلا  يرجي  نا  بجي  لب  مهامجلا  ةفقو  ىلا  ةفاضالاب 262   ةرماؤملا  ءدبك  ىلوالا  ةعاسلا  ذنمو  ل  ل.لالم  ةيمسرلا  رئاودلاو\n",
      " تايدحتلا  ةفاك  ةهجاوم  ىلع  ةرداقو  ةمدقتم  ةيميظنتو  مال 5     تاريرح  نالود  1           يدصتملا  فدهتست  يتلاو  ةيبئاتكلا  ؟0  نيحالفلاو  لامعملاو  بالطلل\n",
      " ريثم  رالود  1  تيوكلا  س  قارعلا  يف  ع  لءل\n",
      " 0  حافكلا  لئاسو  فلتخمب  ةبوقتو  ©  ديدجا  نم  *  ةرفئاطلا  تام  .اماجسنا  اهضاهجاو  ةينيطسلفلا  ةروثلل   \n",
      " رالود  1  ةيبرعلا  ةريزجلا  ب  جيلخلاو\n",
      " 00   ”ةةموكارقكسلحا  ٠ ‏ تيامدحاييق ال ضع »ب   ا)»ها وكقيوتكت ةي (وس تنلاا  : ط اطثلخاثم © هاجت     .  ةةرماؤملا  كلت  هادو تناك  دنا  رمغ  نم,  رزالود ١‏    ييتفلا  يةديصمتللااعلا ا ذهةليلاي ربتممالسارو فق وتمطط عخم   ااسيبيل  ر-ئاز نجالداوسل بال   بسل نئمويلتا   بس\n",
      " -20]|.لي  6  ةيفصتلا  تاططخم  نم“  ةيروث  ةكرحك  ةمواقلا  نابل  ي  ةمواقملا  برض  ن  فدهتست  يتلا  »  ةيوفصتلا  ةم# ٠.‏  رسول  م  نالود  انتروث  هيف  تاأدب  يذلا  تقولا  سفن  بالطلا  ب  ل.ل 0  برفملا\n",
      " ىوقلا  كلت  عجشيو  تاططخملا  كلت  يرفي  سكعلا  ىلع  ةرطخ  ةرماقم  وهو  ةيلعاق     ةقط ينف  مةيلروثالا  ىو عيمقج  لىلأا \"7  رالود  »  ينويهصلا  ودعلا  قامعا  يف  برضت     ل,ل  5.  نيحالفلاو  لامعلاو  \n",
      " كلت  عم  ةحيرصلا  ةهجاوملا  نا  ني حيف  »  اهذيف نىتلع  ة دمداشكو  »  ا ف0ل20س   7ةرساخ  ةرم ةدوطخلا ,  ديد ش.  7  ةينامعلاو  ةينيطسلفل/  ناتدولا  0  لأ  ملسسم  ‏ ءز  نالود 1   نايكملا  زجع  يذلا  تقولا  سفن  فو  ةيمسرلا  رئاودلاو  تاسسؤملل\n",
      " نانمضل.ديحولا  قيرطلا  يه  »  ىوقلاو  تاططخلا  رح  نم  صاصتقالا  يف ليثاما  ىلا لكشل  نو  زيرعلا  دنع  نم  زالود  1  اذه  لثمب  مايقلا  نع  ينويهصلا  ةيطارقميدلانميلا  تس  لهل  ©   \n",
      " ديوسلا  يف  نيتيلوب  كتاعيسم  نوارك  تايالو ل'اس  ايقيرفا  ل  يناند  ا/\n",
      " يرهامجحلا  فانتلالا  نامضو  »  ةمواقملا  ةكرح  ةدحو  #  .,  رودلا  أن  نابايل ااس  ادنك  س  ةدحتملا\n",
      " قيرطلا  يلاتلابو  ©  اهلوح  يبرعلاو  ينيطسلفلا\n",
      " »  ةرماؤملا  تكرح  يتلا  ةنالثلا  لول اىلا رق\n",
      " _  ناريآ  ل  نيصلا  اس  ناتسكاب\n",
      " در  ىلع  ةرداق .اهلعجو: ةمواقملا  ةوقب  عافترالل  ديحولا  »  ةرماغملا  كلت  كيتكت  ناك  ناد ٠*‏   ا  مس  ل.ل  !..  وا  رالود  ‏؟٠\n",
      " همر  زا  “\n",
      " ٍلاسفتلا  ديعصتو  »  ةهج<  نم  ةيفصتلا  تارماؤم  موقت  لقتسم  يسايس  طاشن  يال  سل  قوقل  ذ  لك  لبقو  ةرورضلاب  بجي  »  بجي (١  8  -  |‏   ؟.  ةيبرغلاو  . ةيقرشلا  ابوزوا\n",
      " 00  .  ىرخا  ةهج  نم  يريرحتلا  »ةيوفصتلا  لولحلل  ةضفارلا  ةينم  وي  نأ  لبا  لا     ةلصلا  داجيا  0023  »  رخآ  اس ىألع  ندملا  نيد  ةيلعفلا  اكريما  -  ل.ل  اله  وأ  رالود\n",
      " نوكت  نأ  بجي  يذلا  سردلا  نيوانع  زربا  يه  هذه  نم  رخآلا  مسقلا  دييحت  ىلا  كئذ  يذ     نا  رارصاب  دكؤا  دآو  هوو   ىلم اعلا ل نكم يلا ال ل مةيعللعافلا١ ‏  ةسلصلا  هذه  داجياب عورشلا   2.1ك ‏آ١.  وأ  رالود  1م  ةيبوسنجلا :\n",
      " ..لءل\n",
      " ةينائبللا  وةينيطسلفلا  ةيرولاو  ةينطولا  ىوقلا  عيمج  ةمظنالا  ةكرابمو  ىضر  ىلع  ل  ل1  ةماعلا   ةةددبيرحلا  ساسآ  ىلع   \n",
      " ةيصسلاو  ©  هباعيتسا  ىلع  نآلا  ةبكنم  ةيبرعلاو  نم  نكي  ملف .  اهعم  هوب 03\n",
      " »  ةغرافلا  يواعدلا ١‏   كيب '  نوي  ةداداج  حافنم  نع  اءزج  ةحيرجل١   ‎هذه  ز  )ناآ  بجي  («  ماع  ؟\n",
      "  \n",
      "    0)  فدهلا  <:  ,  هساسأ  ىلع  ةسراملل  تحوارت  »  ةمظنالا  كلي  .  ؟  عقاو٠١‏ لا  ديعص  ىلع  تدك  ٍ ي لأ '  ولا      لهعجتيو  يبعش لامط رطخ سالنجاو د يرفطل ادم لاض نللا   نتاعرلارش  لنامح ت”ةرا رات  لك ل يحف  خفنب  ب  م 111 -. 18  3 0 18   \n",
      " >  مايو  »  ةفطتنم  ةدوصب  بن  >  ةملكلا  ى نلك بع ما مسعو  مظننم  هنكلو  »  هناذ    م 2080  \n",
      " تربد  يتلا  بئانكلا  تاباصع  كنه أثقال  ير  0 ٍنييرجم  نيلضانم  نه  مئاد  شبج ١  8511101-18 831011‏ \n",
      " عييمجل  ةكرتشملا  ةفقولا  وه  ©  ىواقلا  4\n",
      " ةدحولا  خانمو  »  ةرماؤملا  هجل   ٍ        ذ  اي  رواج  كج\n",
      "      راث عدمس لت لب ,....سءاهاتنأب\n",
      " رزيير ةبانب ‏ افرملا ةلرث\n",
      " و) اوال  بكعأ م1 1 نرفلت\n",
      "  \n",
      "  \n",
      "  \n",
      "  \n",
      "  \n",
      "                                                       \n"
     ]
    }
   ],
   "source": [
    "texts = split_text_per_page(ocr_file)\n",
    "print(texts[1])"
   ]
  },
  {
   "cell_type": "code",
   "execution_count": 7,
   "id": "2640c4b1",
   "metadata": {},
   "outputs": [
    {
     "name": "stderr",
     "output_type": "stream",
     "text": [
      "Scanning contents: 100%|██████████| 23/23 [00:00<00:00, 522.25page/s]\n",
      "OCR:  11%|█         | 2.5/23.0 [00:09<00:59,  2.89s/page][tesseract] lots of diacritics - possibly poor OCR\n",
      "OCR:  24%|██▍       | 5.5/23.0 [00:11<00:22,  1.26s/page][tesseract] lots of diacritics - possibly poor OCR\n",
      "OCR:  46%|████▌     | 10.5/23.0 [00:17<00:15,  1.23s/page][tesseract] lots of diacritics - possibly poor OCR\n",
      "OCR: 100%|██████████| 23.0/23.0 [00:25<00:00,  1.11s/page]\n",
      "PDF/A conversion: 100%|██████████| 23/23 [00:04<00:00,  4.87page/s]\n",
      "Some input metadata could not be copied because it is not permitted in PDF/A. You may wish to examine the output PDF's XMP metadata.\n",
      "JPEGs: 0image [00:00, ?image/s]\n",
      "JBIG2: 0item [00:00, ?item/s]\n"
     ]
    }
   ],
   "source": [
    "ocr_file = ocr_pdf(file)"
   ]
  },
  {
   "cell_type": "code",
   "execution_count": 8,
   "id": "1092b9d2",
   "metadata": {},
   "outputs": [
    {
     "data": {
      "text/plain": [
       "(15756153, 11742089)"
      ]
     },
     "execution_count": 8,
     "metadata": {},
     "output_type": "execute_result"
    }
   ],
   "source": [
    "len(file), len(ocr_file)"
   ]
  },
  {
   "cell_type": "code",
   "execution_count": 10,
   "id": "bc231ff6",
   "metadata": {},
   "outputs": [],
   "source": [
    "with open('test.pdf', 'wb') as f:\n",
    "    f.write(ocr_file)"
   ]
  },
  {
   "cell_type": "code",
   "execution_count": 12,
   "id": "00b53f5e",
   "metadata": {},
   "outputs": [],
   "source": [
    "reader = PdfFileReader(\"test.pdf\")\n",
    "pageObj = reader.getNumPages()\n",
    "page_texts = []\n",
    "for page_count in range(pageObj):\n",
    "    page = reader.getPage(page_count)\n",
    "    page_texts.append(page.extractText())"
   ]
  },
  {
   "cell_type": "code",
   "execution_count": 14,
   "id": "40d4d175",
   "metadata": {},
   "outputs": [
    {
     "data": {
      "text/plain": [
       "'\\n\\n\\n\\n\\n\\n\\n\\n\\n\\n\\n\\n\\n\\n\\n\\n\\n\\n\\n\\n\\n\\n\\n\\n\\n\\n\\n\\n\\n\\n\\n\\n\\n\\n\\n\\n\\n\\n\\n\\n\\n\\n\\n\\n\\n\\n\\n\\n'"
      ]
     },
     "execution_count": 14,
     "metadata": {},
     "output_type": "execute_result"
    }
   ],
   "source": [
    "page.extractText()"
   ]
  },
  {
   "cell_type": "code",
   "execution_count": null,
   "id": "907a6658",
   "metadata": {},
   "outputs": [],
   "source": []
  }
 ],
 "metadata": {
  "kernelspec": {
   "display_name": "Python 3",
   "language": "python",
   "name": "python3"
  },
  "language_info": {
   "codemirror_mode": {
    "name": "ipython",
    "version": 3
   },
   "file_extension": ".py",
   "mimetype": "text/x-python",
   "name": "python",
   "nbconvert_exporter": "python",
   "pygments_lexer": "ipython3",
   "version": "3.9.10"
  }
 },
 "nbformat": 4,
 "nbformat_minor": 5
}
